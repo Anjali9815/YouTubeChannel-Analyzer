{
 "cells": [
  {
   "cell_type": "code",
   "execution_count": 1,
   "metadata": {},
   "outputs": [],
   "source": [
    "import os"
   ]
  },
  {
   "cell_type": "code",
   "execution_count": 2,
   "metadata": {},
   "outputs": [
    {
     "data": {
      "text/plain": [
       "'/Users/anjalijha/Python/Project/YouTubeChannel-Analyzer/research'"
      ]
     },
     "execution_count": 2,
     "metadata": {},
     "output_type": "execute_result"
    }
   ],
   "source": [
    "%pwd"
   ]
  },
  {
   "cell_type": "code",
   "execution_count": 3,
   "metadata": {},
   "outputs": [],
   "source": [
    "os.chdir(\"../\")"
   ]
  },
  {
   "cell_type": "code",
   "execution_count": 68,
   "metadata": {},
   "outputs": [],
   "source": [
    "from dataclasses import dataclass\n",
    "from pathlib import Path\n",
    "\n",
    "@dataclass(frozen= True)\n",
    "class DataAnalysisConfig():\n",
    "    root_dir: Path\n",
    "    data_dir : Path\n",
    "    csv_dir : Path"
   ]
  },
  {
   "cell_type": "code",
   "execution_count": 69,
   "metadata": {},
   "outputs": [],
   "source": [
    "from YouTubeChannelAnalyzer.constants import *\n",
    "from YouTubeChannelAnalyzer.utils.common import create_directories, read_yaml\n",
    "import pandas as pd\n",
    "from datetime import datetime, timezone  # Ensure timezone is imported\n",
    "import pandas as pd\n",
    "import seaborn as sns\n",
    "import matplotlib.pyplot as plt\n",
    "import numpy as np\n",
    "from sklearn.model_selection import train_test_split, GridSearchCV\n",
    "from sklearn.metrics import r2_score, mean_absolute_error, mean_squared_error\n",
    "from sklearn.feature_selection import SelectKBest, f_regression, chi2\n",
    "from sklearn.ensemble import RandomForestRegressor\n",
    "# warnings.filterwarnings(\"ignore\")"
   ]
  },
  {
   "cell_type": "code",
   "execution_count": 70,
   "metadata": {},
   "outputs": [],
   "source": [
    "class ConfigurationManager():\n",
    "    def __init__(self, config_filepath = CONFIG_FILE_PATH, params_filepath = PARAMS_FILE_PATH):\n",
    "        self.config = read_yaml(config_filepath)\n",
    "        self.params = read_yaml(params_filepath)\n",
    "        # Create necessary directories\n",
    "        create_directories([self.config.artifacts_root])\n",
    "\n",
    "    \n",
    "    def get_dataanalysis_config(self) -> DataAnalysisConfig:\n",
    "        config = self.config.data_analysis  # Fetching the model_trainer section\n",
    "        create_directories([config.root_dir])\n",
    "        dataanalysis_config = DataAnalysisConfig(\n",
    "            root_dir=config.root_dir,\n",
    "            data_dir=config.data_dir,\n",
    "            csv_dir = config.csv_dir,\n",
    "        )\n",
    "        return dataanalysis_config"
   ]
  },
  {
   "cell_type": "code",
   "execution_count": 73,
   "metadata": {},
   "outputs": [],
   "source": [
    "class ExploratoryDataAnalysis:\n",
    "\n",
    "    def __init__(self, config : ConfigurationManager):\n",
    "        self.config = config\n",
    "\n",
    "    def data_analysis(self):\n",
    "        try:\n",
    "            # Fetch the data\n",
    "            df_data = pd.read_csv(self.config.data_dir + \"Raw_Youtube_API_DATA.csv\")\n",
    "            df_data['total_views'] = pd.to_numeric(df_data['total_views'], errors=\"coerce\")\n",
    "            df_data['total_likes'] = pd.to_numeric(df_data['total_likes'], errors=\"coerce\")\n",
    "            df_data['total_comments'] = pd.to_numeric(df_data['total_comments'], errors=\"coerce\")\n",
    "            df_data['total_subscribers'] = pd.to_numeric(df_data['total_subscribers'], errors=\"coerce\")\n",
    "            df_data['total_no_of_videos'] = pd.to_numeric(df_data['total_no_of_videos'], errors=\"coerce\")\n",
    "            df_data['total_no_short_videos'] = pd.to_numeric(df_data['total_no_short_videos'], errors=\"coerce\")\n",
    "            df_data['total_no_long_videos'] = pd.to_numeric(df_data['total_no_long_videos'], errors=\"coerce\")\n",
    "\n",
    "\n",
    "            df_data['channel_start_date'] = pd.to_datetime(df_data['channel_start_date'], errors=\"coerce\")\n",
    "            df_data['inception_date'] = pd.to_datetime(df_data['inception_date'], errors=\"coerce\")\n",
    "\n",
    "            #check for null values\n",
    "            # print(df_data.isnull().sum())\n",
    "\n",
    "\n",
    "            reference_date = pd.to_datetime(pd.Timestamp.now()).tz_localize('UTC')\n",
    "            # Convert the channel start date and inception date to UTC\n",
    "            df_data['channel_start_date'] = pd.to_datetime(df_data['channel_start_date']).dt.tz_localize('UTC')\n",
    "            df_data['inception_date'] = pd.to_datetime(df_data['inception_date']).dt.tz_localize('UTC')\n",
    "            # Now calculate days since start and inception\n",
    "            df_data['days_since_start'] = (reference_date - df_data['channel_start_date']).dt.days\n",
    "            df_data['days_since_inception'] = (reference_date - df_data['inception_date']).dt.days\n",
    "            final_df = df_data.drop(['channel_id', 'channel_name', 'channel_start_date', 'inception_date'], axis=1)\n",
    "\n",
    "            final_df.to_csv(self.config.csv_dir + \"Youtube_channel_data.csv\", index= False)\n",
    "                        \n",
    "        except Exception as e:\n",
    "            print(f\"An error occurred during model training: {e}\")"
   ]
  },
  {
   "cell_type": "code",
   "execution_count": 74,
   "metadata": {},
   "outputs": [
    {
     "name": "stdout",
     "output_type": "stream",
     "text": [
      "[2025-01-19 22:46:40,989: INFO: common: yaml file: config/config.yaml loaded successfully]\n",
      "[2025-01-19 22:46:40,991: INFO: common: yaml file: params.yaml loaded successfully]\n",
      "[2025-01-19 22:46:40,992: INFO: common: created directory at: artifacts]\n",
      "[2025-01-19 22:46:40,993: INFO: common: created directory at: artifacts/data_analysis]\n"
     ]
    }
   ],
   "source": [
    "try:\n",
    "    config_manager = ConfigurationManager()\n",
    "    eda_config = config_manager.get_dataanalysis_config()\n",
    "    eda = ExploratoryDataAnalysis(config = eda_config)\n",
    "    eda.data_analysis()\n",
    "except Exception as e:\n",
    "    print(f\"An error occurred: {e}\")"
   ]
  },
  {
   "cell_type": "code",
   "execution_count": null,
   "metadata": {},
   "outputs": [],
   "source": []
  },
  {
   "cell_type": "code",
   "execution_count": null,
   "metadata": {},
   "outputs": [],
   "source": []
  }
 ],
 "metadata": {
  "kernelspec": {
   "display_name": "yta",
   "language": "python",
   "name": "python3"
  },
  "language_info": {
   "codemirror_mode": {
    "name": "ipython",
    "version": 3
   },
   "file_extension": ".py",
   "mimetype": "text/x-python",
   "name": "python",
   "nbconvert_exporter": "python",
   "pygments_lexer": "ipython3",
   "version": "3.13.0"
  }
 },
 "nbformat": 4,
 "nbformat_minor": 2
}
