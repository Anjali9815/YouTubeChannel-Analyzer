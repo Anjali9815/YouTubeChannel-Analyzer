{
 "cells": [
  {
   "cell_type": "code",
   "execution_count": 3,
   "metadata": {},
   "outputs": [],
   "source": [
    "import os\n",
    "os.chdir(\"../\")"
   ]
  },
  {
   "cell_type": "code",
   "execution_count": 4,
   "metadata": {},
   "outputs": [
    {
     "data": {
      "text/plain": [
       "'/Users/anjalijha/Python/Project/YouTubeChannel-Analyzer'"
      ]
     },
     "execution_count": 4,
     "metadata": {},
     "output_type": "execute_result"
    }
   ],
   "source": [
    "%pwd"
   ]
  },
  {
   "cell_type": "code",
   "execution_count": 5,
   "metadata": {},
   "outputs": [],
   "source": [
    "from dataclasses import dataclass\n",
    "from pathlib import Path\n",
    "\n",
    "@dataclass(frozen= True)\n",
    "class ModelTrainerconfig:\n",
    "    root_dir : Path\n",
    "    data_dir : Path\n",
    "    test_size: float\n",
    "    random_state_size: int\n",
    "    n_estimators: int\n",
    "    random_state : int"
   ]
  },
  {
   "cell_type": "code",
   "execution_count": 6,
   "metadata": {},
   "outputs": [],
   "source": [
    "from YouTubeChannelAnalyzer.constants import *\n",
    "from YouTubeChannelAnalyzer.utils.common import create_directories, read_yaml\n",
    "from YouTubeChannelAnalyzer.logging import logger\n",
    "import pandas as pd\n",
    "import joblib\n",
    "from sklearn.model_selection import train_test_split, GridSearchCV\n",
    "from sklearn.metrics import r2_score, mean_absolute_error, mean_squared_error\n",
    "from sklearn.feature_selection import SelectKBest, f_regression, chi2\n",
    "from sklearn.ensemble import RandomForestRegressor\n",
    "from sklearn.metrics import accuracy_score"
   ]
  },
  {
   "cell_type": "code",
   "execution_count": 7,
   "metadata": {},
   "outputs": [],
   "source": [
    "\n",
    "class ConfigurationManager:\n",
    "    def __init__(self, config_filepath=CONFIG_FILE_PATH, params_filepath=PARAMS_FILE_PATH):\n",
    "        try:\n",
    "            # Read YAML files into a ConfigBox (or dictionary-like) object\n",
    "            self.config = read_yaml(config_filepath)\n",
    "            self.params = read_yaml(params_filepath)\n",
    "\n",
    "            # Create necessary directories from the config\n",
    "            create_directories([self.config.artifacts_root])\n",
    "            logger.info(f\"Configuration loaded from {config_filepath} and {params_filepath}.\")\n",
    "        except Exception as e:\n",
    "            logger.error(f\"Error loading configuration: {e}\")\n",
    "            raise\n",
    "\n",
    "    def get_model_training_config(self) -> ModelTrainerconfig:\n",
    "        try:\n",
    "            # Fetching the model_trainer section from the config file\n",
    "            config = self.config['model_trainer']  # Assuming ConfigBox returns a dict-like object\n",
    "            params = self.params['TrainingArguments']\n",
    "            create_directories([config['root_dir']])\n",
    "\n",
    "            model_training_config = ModelTrainerconfig(\n",
    "                root_dir=config['root_dir'],\n",
    "                data_dir=config['data_dir'],\n",
    "                test_size=params['test_size'],\n",
    "                random_state_size=params['random_state_size'],\n",
    "                n_estimators=params['n_estimators'],\n",
    "                random_state = params['random_state']\n",
    "            )\n",
    "\n",
    "            logger.info(\"Model training configuration loaded successfully.\")\n",
    "            return model_training_config\n",
    "        except KeyError as e:\n",
    "            logger.error(f\"Missing key in configuration: {e}\")\n",
    "            raise\n",
    "        except Exception as e:\n",
    "            logger.error(f\"Error fetching model training config: {e}\")\n",
    "            raise\n",
    "\n"
   ]
  },
  {
   "cell_type": "code",
   "execution_count": null,
   "metadata": {},
   "outputs": [],
   "source": [
    "\n",
    "class ModelTraining:\n",
    "\n",
    "    def __init__(self, config: ModelTrainerconfig):\n",
    "        self.config = config\n",
    "        self.params = config\n",
    "\n",
    "    def model_training(self):\n",
    "        try:\n",
    "            # Fetch the data (assuming the path in `self.config.data_dir` is valid)\n",
    "            df_data = pd.read_csv(self.config.data_dir + \"Youtube_channel_data.csv\")\n",
    "            logger.info(f\"Data loaded from {self.config.data_dir}.\")\n",
    "            # print(df_data)\n",
    "            \n",
    "            # # Example: assume df has features and a target column\n",
    "            # # x = df_data.drop(['channel_id', 'channel_name', 'channel_start_date', 'inception_date', 'total_subscribers'], axis=1)\n",
    "            # x = df_data[['total_views', 'total_likes', 'total_comments', 'total_no_of_videos', 'total_no_long_videos', 'days_since_start']]\n",
    "            # y = df_data['total_subscribers']\n",
    "            x = df_data.drop(columns='total_subscribers', axis= 1)\n",
    "            y = df_data['total_subscribers']\n",
    "            # print(x.columns)\n",
    "\n",
    "\n",
    "            # # Split the data into train and test sets\n",
    "            X_train, X_test, y_train, y_test = train_test_split(x, y, test_size=self.params.test_size, random_state=self.params.random_state_size)\n",
    "            logger.info(f\"Data split into training and testing sets with test size: {self.params.test_size}.\")\n",
    "\n",
    "            # # Initialize the model (e.g., Random Forest)\n",
    "            model = RandomForestRegressor(n_estimators=self.params.n_estimators, random_state=self.params.random_state)\n",
    "            logger.info(\"Random Forest model initialized.\")\n",
    "\n",
    "            # # Train the model\n",
    "            model.fit(X_train, y_train)\n",
    "            logger.info(\"Model training completed.\")\n",
    "\n",
    "            logger.info(f\"Model accuracy: {model.score(X_test, y_test):.2f}\")\n",
    "            y_pred = model.predict(X_test)\n",
    "            mae = mean_absolute_error(y_test, y_pred)\n",
    "            mse = mean_squared_error(y_test, y_pred)\n",
    "            r2 = r2_score(y_test, y_pred)\n",
    "\n",
    "            logger.info(f\"Model evaluation completed. MAE: {mae:.2f}, MSE: {mse:.2f}, R^2: {r2:.2f}\")\n",
    "\n",
    "            # Save the trained model\n",
    "            joblib.dump(model, self.config.root_dir + \"model.pkl\")\n",
    "            logger.info(f\"Model saved to {self.config.root_dir}.\")\n",
    "\n",
    "        except Exception as e:\n",
    "            logger.error(f\"An error occurred during model training: {e}\")\n",
    "            raise\n",
    "\n"
   ]
  },
  {
   "cell_type": "code",
   "execution_count": 9,
   "metadata": {},
   "outputs": [
    {
     "name": "stdout",
     "output_type": "stream",
     "text": [
      "[2025-01-20 16:53:54,444: INFO: common: yaml file: config/config.yaml loaded successfully]\n"
     ]
    },
    {
     "name": "stdout",
     "output_type": "stream",
     "text": [
      "[2025-01-20 16:53:54,458: INFO: common: yaml file: params.yaml loaded successfully]\n",
      "[2025-01-20 16:53:54,463: INFO: common: created directory at: artifacts]\n",
      "[2025-01-20 16:53:54,470: INFO: 4062040296: Configuration loaded from config/config.yaml and params.yaml.]\n",
      "[2025-01-20 16:53:54,473: INFO: common: created directory at: artifacts/model_trainer/]\n",
      "[2025-01-20 16:53:54,478: INFO: 4062040296: Model training configuration loaded successfully.]\n",
      "[2025-01-20 16:53:54,591: INFO: 1912118790: Data loaded from artifacts/data_analysis/.]\n",
      "Index(['total_no_of_videos', 'total_no_short_videos', 'total_no_long_videos',\n",
      "       'total_views', 'total_likes', 'total_comments', 'days_since_start',\n",
      "       'days_since_inception'],\n",
      "      dtype='object')\n",
      "[2025-01-20 16:53:54,613: INFO: 1912118790: Data split into training and testing sets with test size: 0.2.]\n",
      "[2025-01-20 16:53:54,623: INFO: 1912118790: Random Forest model initialized.]\n",
      "[2025-01-20 16:53:54,642: INFO: 1912118790: Model training completed.]\n",
      "[2025-01-20 16:53:54,644: INFO: 1912118790: Model accuracy: 0.84]\n",
      "[2025-01-20 16:53:54,645: INFO: 1912118790: Model evaluation completed. MAE: 1449660.37, MSE: 4452989092117.25, R^2: 0.84]\n",
      "[2025-01-20 16:53:54,650: INFO: 1912118790: Model saved to artifacts/model_trainer/.]\n"
     ]
    }
   ],
   "source": [
    "try:\n",
    "    config_manager = ConfigurationManager()\n",
    "    modeltraining_config = config_manager.get_model_training_config()\n",
    "    model_training = ModelTraining(config = modeltraining_config)\n",
    "    model_training.model_training()\n",
    "except Exception as e:\n",
    "    print(f\"An error occurred: {e}\")"
   ]
  },
  {
   "cell_type": "code",
   "execution_count": null,
   "metadata": {},
   "outputs": [],
   "source": []
  }
 ],
 "metadata": {
  "kernelspec": {
   "display_name": "yta",
   "language": "python",
   "name": "python3"
  },
  "language_info": {
   "codemirror_mode": {
    "name": "ipython",
    "version": 3
   },
   "file_extension": ".py",
   "mimetype": "text/x-python",
   "name": "python",
   "nbconvert_exporter": "python",
   "pygments_lexer": "ipython3",
   "version": "3.13.0"
  }
 },
 "nbformat": 4,
 "nbformat_minor": 2
}
